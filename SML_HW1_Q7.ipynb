{
  "nbformat": 4,
  "nbformat_minor": 0,
  "metadata": {
    "colab": {
      "provenance": [],
      "authorship_tag": "ABX9TyPQvBvaVRaYSm/rI5p6mJxY",
      "include_colab_link": true
    },
    "kernelspec": {
      "name": "python3",
      "display_name": "Python 3"
    },
    "language_info": {
      "name": "python"
    }
  },
  "cells": [
    {
      "cell_type": "markdown",
      "metadata": {
        "id": "view-in-github",
        "colab_type": "text"
      },
      "source": [
        "<a href=\"https://colab.research.google.com/github/AUT-Student/SML-HW1/blob/main/SML_HW1_Q7.ipynb\" target=\"_parent\"><img src=\"https://colab.research.google.com/assets/colab-badge.svg\" alt=\"Open In Colab\"/></a>"
      ]
    },
    {
      "cell_type": "markdown",
      "source": [
        "<center><b>In the name of God</b></center>\n",
        "\n",
        "<b>Course</b>: Statistical Machine Learning\n",
        "<br>\n",
        "<b>Description:</b> HomeWork 1 | Question 7\n",
        "<br>\n",
        "<b>Developer</b>: Alireza Mazochi (400131075)"
      ],
      "metadata": {
        "id": "s_mMNy7iICKl"
      }
    },
    {
      "cell_type": "code",
      "execution_count": 2,
      "metadata": {
        "id": "P_1OP1l0HV-l"
      },
      "outputs": [],
      "source": [
        "import matplotlib.pyplot as plt\n",
        "import numpy as np"
      ]
    },
    {
      "cell_type": "code",
      "source": [
        "x1, x2 = np.random.multivariate_normal([0, 0],\n",
        "                                       [[1, 1/2],[1/2, 1/3]],\n",
        "                                       1000).T"
      ],
      "metadata": {
        "id": "XFEQWjw3IBhG"
      },
      "execution_count": 5,
      "outputs": []
    },
    {
      "cell_type": "code",
      "source": [
        "x1_mean = np.average(x1) \n",
        "x2_mean = np.average(x2) \n",
        "print(f\"X1 mean = {x1_mean}\\nX2 mean = {x2_mean}\")"
      ],
      "metadata": {
        "colab": {
          "base_uri": "https://localhost:8080/"
        },
        "id": "WSGBLfsrIbs_",
        "outputId": "0b486a05-a9d4-4a58-df7e-ff0bfef8cb54"
      },
      "execution_count": 9,
      "outputs": [
        {
          "output_type": "stream",
          "name": "stdout",
          "text": [
            "X1 mean = 0.005086913767398327\n",
            "X2 mean = 0.00938869597795575\n"
          ]
        }
      ]
    },
    {
      "cell_type": "code",
      "source": [
        "print(f\"Cov(X1, X2) = {np.sum((x1 - x1_mean) * (x2 - x2_mean))/1000}\")\n",
        "print(f\"Var(X1) = {np.sum((x1 - x1_mean)**2)/1000}\")\n",
        "print(f\"Var(X2) = {np.sum((x2 - x2_mean)**2)/1000}\")"
      ],
      "metadata": {
        "colab": {
          "base_uri": "https://localhost:8080/"
        },
        "id": "e936Q5fsIekm",
        "outputId": "2154c9cc-9ae6-4640-c61a-16295d9c3157"
      },
      "execution_count": 14,
      "outputs": [
        {
          "output_type": "stream",
          "name": "stdout",
          "text": [
            "Cov(X1, X2) = 0.5200031312339963\n",
            "Var(X1) = 1.0480759579948422\n",
            "Var(X2) = 0.33682554984439705\n"
          ]
        }
      ]
    },
    {
      "cell_type": "code",
      "source": [],
      "metadata": {
        "id": "5Wc13x78JVZe"
      },
      "execution_count": null,
      "outputs": []
    }
  ]
}