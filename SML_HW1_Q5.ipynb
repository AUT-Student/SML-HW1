{
  "cells": [
    {
      "cell_type": "markdown",
      "metadata": {
        "id": "view-in-github",
        "colab_type": "text"
      },
      "source": [
        "<a href=\"https://colab.research.google.com/github/AUT-Student/SML-HW1/blob/main/SML_HW1_Q5.ipynb\" target=\"_parent\"><img src=\"https://colab.research.google.com/assets/colab-badge.svg\" alt=\"Open In Colab\"/></a>"
      ]
    },
    {
      "cell_type": "markdown",
      "metadata": {
        "id": "zVE5xK9DOh8Y"
      },
      "source": [
        "<center><b>In the name of God</b></center>\n",
        "\n",
        "<b>Course</b>: Statistical Machine Learning\n",
        "<br>\n",
        "<b>Description:</b> HomeWork 1 | Question 5\n",
        "<br>\n",
        "<b>Developer</b>: Alireza Mazochi (400131075)"
      ]
    },
    {
      "cell_type": "code",
      "execution_count": null,
      "metadata": {
        "id": "J0r4zpEaOS9E"
      },
      "outputs": [],
      "source": [
        "import numpy as np"
      ]
    },
    {
      "cell_type": "code",
      "execution_count": null,
      "metadata": {
        "id": "U-3FQVBSO2vl"
      },
      "outputs": [],
      "source": [
        "Xs = np.random.normal(5, 18, 10000)"
      ]
    },
    {
      "cell_type": "code",
      "execution_count": null,
      "metadata": {
        "colab": {
          "base_uri": "https://localhost:8080/"
        },
        "id": "PlmLQqJ2_AYF",
        "outputId": "c32a3dbd-b848-4367-adac-cdf90137e9e8"
      },
      "outputs": [
        {
          "output_type": "stream",
          "name": "stdout",
          "text": [
            "P(X<9) = 0.5873\n"
          ]
        }
      ],
      "source": [
        "print(f\"P(X<9) = {np.average(Xs < 9)}\")"
      ]
    },
    {
      "cell_type": "code",
      "execution_count": null,
      "metadata": {
        "colab": {
          "base_uri": "https://localhost:8080/"
        },
        "id": "PsABFdo3_XTJ",
        "outputId": "e48fc470-84b5-4ed4-a835-51949aba9edb"
      },
      "outputs": [
        {
          "output_type": "stream",
          "name": "stdout",
          "text": [
            "P(X>-3) = 0.6772\n"
          ]
        }
      ],
      "source": [
        "print(f\"P(X>-3) = {np.average(Xs > -3)}\")"
      ]
    },
    {
      "cell_type": "code",
      "execution_count": null,
      "metadata": {
        "colab": {
          "base_uri": "https://localhost:8080/"
        },
        "id": "HPc8Tyr4_0-H",
        "outputId": "3176346a-f379-4b6d-fbc7-d949e0ee5db2"
      },
      "outputs": [
        {
          "output_type": "stream",
          "name": "stdout",
          "text": [
            "P(X>x) = 0.05. x = 34.635648063371775\n"
          ]
        }
      ],
      "source": [
        "print(f\"P(X>x) = 0.05. x = {sorted(Xs)[int((1-0.05) * 10000)]}\")"
      ]
    },
    {
      "cell_type": "code",
      "execution_count": null,
      "metadata": {
        "colab": {
          "base_uri": "https://localhost:8080/"
        },
        "id": "gZD05BCL_sKi",
        "outputId": "5ce7c9b7-2965-492a-c1c9-276747d0ea58"
      },
      "outputs": [
        {
          "output_type": "stream",
          "name": "stdout",
          "text": [
            "P(0<=X<4) = 0.0878\n"
          ]
        }
      ],
      "source": [
        "print(f\"P(0<=X<4) = {np.average(np.logical_and(0 <= Xs, Xs < 4))}\")"
      ]
    },
    {
      "cell_type": "code",
      "source": [
        "print(f\"P(|X|>|x|) = 0.05. |x| = {sorted(np.abs(Xs))[int((1-0.05) * 10000)]}\")"
      ],
      "metadata": {
        "colab": {
          "base_uri": "https://localhost:8080/"
        },
        "id": "5wBsm0FhALHc",
        "outputId": "2e59488f-108a-4773-9cab-f5fa982cd240"
      },
      "execution_count": null,
      "outputs": [
        {
          "output_type": "stream",
          "name": "stdout",
          "text": [
            "P(|X|>|x|) = 0.05. |x| = 36.78740108751567\n"
          ]
        }
      ]
    },
    {
      "cell_type": "code",
      "source": [],
      "metadata": {
        "id": "FV2xLmq1BrIK"
      },
      "execution_count": null,
      "outputs": []
    }
  ],
  "metadata": {
    "colab": {
      "provenance": [],
      "authorship_tag": "ABX9TyO+ClQ8epIH7xlOaCE/5q3f",
      "include_colab_link": true
    },
    "kernelspec": {
      "display_name": "Python 3",
      "name": "python3"
    },
    "language_info": {
      "name": "python"
    }
  },
  "nbformat": 4,
  "nbformat_minor": 0
}