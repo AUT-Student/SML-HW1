{
  "nbformat": 4,
  "nbformat_minor": 0,
  "metadata": {
    "colab": {
      "provenance": [],
      "authorship_tag": "ABX9TyPp+br+pqQRn6hKiVF2aoxE",
      "include_colab_link": true
    },
    "kernelspec": {
      "name": "python3",
      "display_name": "Python 3"
    },
    "language_info": {
      "name": "python"
    }
  },
  "cells": [
    {
      "cell_type": "markdown",
      "metadata": {
        "id": "view-in-github",
        "colab_type": "text"
      },
      "source": [
        "<a href=\"https://colab.research.google.com/github/AUT-Student/SML-HW1/blob/main/SML_HW1_Q12.ipynb\" target=\"_parent\"><img src=\"https://colab.research.google.com/assets/colab-badge.svg\" alt=\"Open In Colab\"/></a>"
      ]
    },
    {
      "cell_type": "markdown",
      "source": [
        "<center><b>In the name of God</b></center>\n",
        "\n",
        "<b>Course</b>: Statistical Machine Learning\n",
        "<br>\n",
        "<b>Description:</b> HomeWork 1 | Question 12\n",
        "<br>\n",
        "<b>Developer</b>: Alireza Mazochi (400131075)"
      ],
      "metadata": {
        "id": "S20_vwbLB3CI"
      }
    },
    {
      "cell_type": "code",
      "execution_count": 1,
      "metadata": {
        "id": "cJ3Cc9IwB2fl"
      },
      "outputs": [],
      "source": [
        "import numpy as np"
      ]
    },
    {
      "cell_type": "code",
      "source": [
        "for p in [0.3, 0.5]:\n",
        "  samples = np.random.binomial(n=1, p=p, size=1000)\n",
        "  epsilon = 0.2\n",
        "  n = 100\n",
        "  distances = []\n",
        "  for i in range(10):\n",
        "    distances.append(np.abs(np.average(samples[100*i:100*(i+1)] - p)))\n",
        "\n",
        "  distances = np.array(distances)\n",
        "\n",
        "  probability = np.sum(np.array(distances) > epsilon) / 10\n",
        "\n",
        "  chebyshev_bound = 1/4*n*(epsilon**2)\n",
        "  hoeffding_bound = 2 * np.e ** (-2*n*(epsilon**2))\n",
        "  print(f\"p = {p}\")\n",
        "  print(f\"probability = {probability}\")\n",
        "  print(f\"chebyshev_bound = {chebyshev_bound}\")\n",
        "  print(f\"hoeffding_bound = {hoeffding_bound}\\n\")"
      ],
      "metadata": {
        "colab": {
          "base_uri": "https://localhost:8080/"
        },
        "id": "eI3EHfY1EFho",
        "outputId": "923cd0f2-4663-4f2e-fae3-14377f490822"
      },
      "execution_count": 14,
      "outputs": [
        {
          "output_type": "stream",
          "name": "stdout",
          "text": [
            "p = 0.3\n",
            "probability = 0.0\n",
            "chebyshev_bound = 1.0000000000000002\n",
            "hoeffding_bound = 0.0006709252558050227\n",
            "\n",
            "p = 0.5\n",
            "probability = 0.0\n",
            "chebyshev_bound = 1.0000000000000002\n",
            "hoeffding_bound = 0.0006709252558050227\n",
            "\n"
          ]
        }
      ]
    }
  ]
}