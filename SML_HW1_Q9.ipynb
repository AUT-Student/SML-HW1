{
  "nbformat": 4,
  "nbformat_minor": 0,
  "metadata": {
    "colab": {
      "provenance": [],
      "authorship_tag": "ABX9TyNkQoO+j/1xCe6fGw+PBS3y",
      "include_colab_link": true
    },
    "kernelspec": {
      "name": "python3",
      "display_name": "Python 3"
    },
    "language_info": {
      "name": "python"
    }
  },
  "cells": [
    {
      "cell_type": "markdown",
      "metadata": {
        "id": "view-in-github",
        "colab_type": "text"
      },
      "source": [
        "<a href=\"https://colab.research.google.com/github/AUT-Student/SML-HW1/blob/main/SML_HW1_Q9.ipynb\" target=\"_parent\"><img src=\"https://colab.research.google.com/assets/colab-badge.svg\" alt=\"Open In Colab\"/></a>"
      ]
    },
    {
      "cell_type": "markdown",
      "source": [
        "<center><b>In the name of God</b></center>\n",
        "\n",
        "<b>Course</b>: Statistical Machine Learning\n",
        "<br>\n",
        "<b>Description:</b> HomeWork 1 | Question 9\n",
        "<br>\n",
        "<b>Developer</b>: Alireza Mazochi (400131075)"
      ],
      "metadata": {
        "id": "_MTJ6_Atrjsy"
      }
    },
    {
      "cell_type": "code",
      "execution_count": 6,
      "metadata": {
        "id": "XnZBCpZLOWqX"
      },
      "outputs": [],
      "source": [
        "import numpy as np\n",
        "import matplotlib.pyplot as plt"
      ]
    },
    {
      "cell_type": "code",
      "source": [
        "X1 = np.random.binomial(1000, 0.3, 1000000)\n",
        "X2 = np.random.binomial(1000, 0.5, 1000000)\n",
        "X3 = np.random.binomial(2000, 0.5, 1000000)"
      ],
      "metadata": {
        "id": "Y6VkBW7pOiOB"
      },
      "execution_count": 88,
      "outputs": []
    },
    {
      "cell_type": "code",
      "source": [
        "X12 = X1 + X2\n",
        "X23 = X2 + X3"
      ],
      "metadata": {
        "id": "MQVjw-UsO-fG"
      },
      "execution_count": 89,
      "outputs": []
    },
    {
      "cell_type": "code",
      "source": [
        "X23_mean = np.average(X23)\n",
        "X23_var = np.sum((X23 - X23_mean)**2) / (len(X23))\n",
        "X23_p = 1-X23_var/X23_mean\n",
        "X23_n = X23_mean/X23_p\n",
        "print(f\"X23 mean = {X23_mean}\\nX23 var = {X23_var}\")\n",
        "print(f\"p = {X23_p}, n = {X23_n}\")"
      ],
      "metadata": {
        "colab": {
          "base_uri": "https://localhost:8080/"
        },
        "id": "ktmC6Bv3SPSO",
        "outputId": "d6f802bd-fb23-4759-d7b0-51c60ea42268"
      },
      "execution_count": 95,
      "outputs": [
        {
          "output_type": "stream",
          "name": "stdout",
          "text": [
            "X23 mean = 1500.008693\n",
            "X23 var = 750.0253414317508\n",
            "p = 0.49998600345994737, n = 3000.1013680779206\n"
          ]
        }
      ]
    },
    {
      "cell_type": "code",
      "source": [
        "X12_mean = np.average(X12)\n",
        "X12_var = np.sum((X12 - X12_mean)**2) / len(X12)\n",
        "X12_p = 1-X12_var/X12_mean\n",
        "X12_n = X12_mean/X12_p\n",
        "print(f\"X12 mean = {X12_mean}\\nX12 var = {X12_var}\")\n",
        "print(f\"p = {X12_p}, n = {X12_n}\")"
      ],
      "metadata": {
        "colab": {
          "base_uri": "https://localhost:8080/"
        },
        "id": "BY8WczMNTyW6",
        "outputId": "edde379b-964d-4eb1-84e4-396c64d151ed"
      },
      "execution_count": 96,
      "outputs": [
        {
          "output_type": "stream",
          "name": "stdout",
          "text": [
            "X12 mean = 800.020804\n",
            "X12 var = 459.87433919358404\n",
            "p = 0.4251720244095252, n = 1881.6402728073683\n"
          ]
        }
      ]
    },
    {
      "cell_type": "code",
      "source": [
        "X4 = np.random.binomial(X12_n, X12_p, 1000000)\n",
        "X5 = np.random.binomial(X23_n, X23_p, 1000000)"
      ],
      "metadata": {
        "id": "xwCSdEXscanu"
      },
      "execution_count": 97,
      "outputs": []
    },
    {
      "cell_type": "code",
      "source": [
        "plt.hist(X12, bins=50, density=True, color=\"blue\", alpha=0.3, label=\"X1 + X2\")\n",
        "plt.hist(X4, bins=50, density=True, color=\"red\", alpha=0.3, label=\"X4\")\n",
        "\n",
        "plt.xlabel(\"X\")\n",
        "plt.ylabel(\"f\")\n",
        "plt.title(\"X1 + X2\")\n",
        "plt.legend()\n",
        "plt.show()"
      ],
      "metadata": {
        "colab": {
          "base_uri": "https://localhost:8080/",
          "height": 295
        },
        "id": "CBgHcU1wPHYD",
        "outputId": "cc1100c6-40a7-4138-dc3a-5435b9b51247"
      },
      "execution_count": 98,
      "outputs": [
        {
          "output_type": "display_data",
          "data": {
            "text/plain": [
              "<Figure size 432x288 with 1 Axes>"
            ],
            "image/png": "[encoded data removed]"
          },
          "metadata": {
            "needs_background": "light"
          }
        }
      ]
    },
    {
      "cell_type": "code",
      "source": [
        "plt.hist(X23, bins=50, density=True, color=\"blue\", alpha=0.3, label=\"X2 + X3\")\n",
        "plt.hist(X5, bins=50, density=True, color=\"red\", alpha=0.3, label=\"X5\")\n",
        "\n",
        "plt.xlabel(\"X\")\n",
        "plt.ylabel(\"f\")\n",
        "plt.title(\"X2 + X3\")\n",
        "plt.legend()\n",
        "plt.show()"
      ],
      "metadata": {
        "colab": {
          "base_uri": "https://localhost:8080/",
          "height": 295
        },
        "id": "M8OwHr4rQI7H",
        "outputId": "c056cba7-28e4-4062-9ba0-db82256ccb1e"
      },
      "execution_count": 99,
      "outputs": [
        {
          "output_type": "display_data",
          "data": {
            "text/plain": [
              "<Figure size 432x288 with 1 Axes>"
            ],
            "image/png": "[encoded data removed]"
          },
          "metadata": {
            "needs_background": "light"
          }
        }
      ]
    },
    {
      "cell_type": "code",
      "source": [],
      "metadata": {
        "id": "B6kb96PZeBux"
      },
      "execution_count": 94,
      "outputs": []
    }
  ]
}