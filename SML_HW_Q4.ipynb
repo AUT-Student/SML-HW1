{
  "nbformat": 4,
  "nbformat_minor": 0,
  "metadata": {
    "colab": {
      "provenance": [],
      "authorship_tag": "ABX9TyNgxTMGKv5XbGdBECEFKIwA",
      "include_colab_link": true
    },
    "kernelspec": {
      "name": "python3",
      "display_name": "Python 3"
    },
    "language_info": {
      "name": "python"
    }
  },
  "cells": [
    {
      "cell_type": "markdown",
      "metadata": {
        "id": "view-in-github",
        "colab_type": "text"
      },
      "source": [
        "<a href=\"https://colab.research.google.com/github/AUT-Student/SML-HW1/blob/main/SML_HW_Q4.ipynb\" target=\"_parent\"><img src=\"https://colab.research.google.com/assets/colab-badge.svg\" alt=\"Open In Colab\"/></a>"
      ]
    },
    {
      "cell_type": "markdown",
      "source": [
        "<center><b>In the name of God</b></center>\n",
        "\n",
        "<b>Course</b>: Statistical Machine Learning\n",
        "<br>\n",
        "<b>Description:</b> HomeWork 1 | Question 4\n",
        "<br>\n",
        "<b>Developer</b>: Alireza Mazochi (400131075)"
      ],
      "metadata": {
        "id": "eQGxvD7BIEh3"
      }
    },
    {
      "cell_type": "code",
      "execution_count": 8,
      "metadata": {
        "id": "uhaaXI6KICTf"
      },
      "outputs": [],
      "source": [
        "import random\n",
        "class MontyHall():\n",
        "  \"\"\" Simulation for MontyHall\"\"\"\n",
        "  def __init__(self):\n",
        "    self.options = {1, 2, 3}\n",
        "    self.start()\n",
        "\n",
        "  def start(self):\n",
        "    \"\"\" Start the game\"\"\"\n",
        "    # Select an option as answer\n",
        "    self.answer = random.choice(list(self.options))\n",
        "    self.selection = None\n",
        "  \n",
        "\n",
        "  def random_select(self):\n",
        "    \"\"\" Randomly select an option\"\"\"\n",
        "    self.select(random.choice(list(self.options)))\n",
        "  \n",
        "  def select(self, option):\n",
        "    \"\"\" Selection an option \"\"\"\n",
        "    self.selection = option\n",
        "\n",
        "  def accept_offer(self):\n",
        "    \"\"\" Accept the offer (Changing the current selection)\"\"\"\n",
        "    if self.answer == self.selection:\n",
        "      # If the current selection is answer,  ont of other option muse be selected\n",
        "      self.selection = random.choice(list(self.options - {self.selection}))\n",
        "    else:\n",
        "      # If the current selection is not answer, the other remain option is answer!\n",
        "      self.selection = self.answer\n",
        "\n",
        "  def is_win(self):\n",
        "    \"\"\" Finish game and return result \"\"\"\n",
        "    return self.answer == self.selection"
      ]
    },
    {
      "cell_type": "code",
      "source": [
        "def run_monty_hall(change_door, number_rounds):\n",
        "  monty_hall = MontyHall()\n",
        "\n",
        "  number_wins = 0\n",
        "\n",
        "  for _ in range(number_rounds):\n",
        "    monty_hall.start()\n",
        "    monty_hall.random_select()\n",
        "    \n",
        "    if change_door:\n",
        "      monty_hall.accept_offer()\n",
        "    \n",
        "    if monty_hall.is_win():\n",
        "      number_wins += 1\n",
        "  \n",
        "  return number_wins / number_rounds"
      ],
      "metadata": {
        "id": "Qyx0KgxHKUTE"
      },
      "execution_count": 9,
      "outputs": []
    },
    {
      "cell_type": "code",
      "source": [
        "run_monty_hall(change_door=False, number_rounds=1000)"
      ],
      "metadata": {
        "colab": {
          "base_uri": "https://localhost:8080/"
        },
        "id": "zbIq4OVMLv2N",
        "outputId": "4e0b28e1-eae6-49db-bd7c-5b2703cd9d35"
      },
      "execution_count": 10,
      "outputs": [
        {
          "output_type": "execute_result",
          "data": {
            "text/plain": [
              "0.332"
            ]
          },
          "metadata": {},
          "execution_count": 10
        }
      ]
    },
    {
      "cell_type": "code",
      "source": [
        "run_monty_hall(change_door=True, number_rounds=1000)"
      ],
      "metadata": {
        "colab": {
          "base_uri": "https://localhost:8080/"
        },
        "id": "oMNgHfVVL6HB",
        "outputId": "b389d05a-264b-4e66-8e53-b55da76a15f0"
      },
      "execution_count": 11,
      "outputs": [
        {
          "output_type": "execute_result",
          "data": {
            "text/plain": [
              "0.666"
            ]
          },
          "metadata": {},
          "execution_count": 11
        }
      ]
    }
  ]
}