{
  "nbformat": 4,
  "nbformat_minor": 0,
  "metadata": {
    "colab": {
      "provenance": [],
      "authorship_tag": "ABX9TyNFSOIznDWomfDl8Y1WzPf7",
      "include_colab_link": true
    },
    "kernelspec": {
      "name": "python3",
      "display_name": "Python 3"
    },
    "language_info": {
      "name": "python"
    }
  },
  "cells": [
    {
      "cell_type": "markdown",
      "metadata": {
        "id": "view-in-github",
        "colab_type": "text"
      },
      "source": [
        "<a href=\"https://colab.research.google.com/github/AUT-Student/SML-HW1/blob/main/SML_HW1_Q3.ipynb\" target=\"_parent\"><img src=\"https://colab.research.google.com/assets/colab-badge.svg\" alt=\"Open In Colab\"/></a>"
      ]
    },
    {
      "cell_type": "markdown",
      "source": [
        "<center><b>In the name of God</b></center>\n",
        "\n",
        "<b>Course</b>: Statistical Machine Learning\n",
        "<br>\n",
        "<b>Description:</b> HomeWork 1 | Question 3\n",
        "<br>\n",
        "<b>Developer</b>: Alireza Mazochi (400131075)"
      ],
      "metadata": {
        "id": "EX_BEfIk3w2g"
      }
    },
    {
      "cell_type": "code",
      "source": [
        "import random"
      ],
      "metadata": {
        "id": "d8-_gGiW33T-"
      },
      "execution_count": 1,
      "outputs": []
    },
    {
      "cell_type": "code",
      "source": [
        "def die_toss():\n",
        "  return random.choice(range(1, 7))"
      ],
      "metadata": {
        "id": "yS-DHzLG4ZOp"
      },
      "execution_count": 11,
      "outputs": []
    },
    {
      "cell_type": "code",
      "source": [
        "def die_multi_toss(n):\n",
        "  samples = dict()\n",
        "  for i in range(1, 7): samples[i] = 0\n",
        "  for _ in range(n):\n",
        "    samples[die_toss()] += 1\n",
        "  \n",
        "  return samples"
      ],
      "metadata": {
        "id": "SkxNxV1d4ebT"
      },
      "execution_count": 12,
      "outputs": []
    },
    {
      "cell_type": "code",
      "source": [
        "def die_probability(samples, event):\n",
        "  n = sum(samples[i] for i in range(1, 7))\n",
        "  output = 0\n",
        "  for outcome in event:\n",
        "    output += samples[outcome]\n",
        "  output /= n\n",
        "  return round(output, 3)"
      ],
      "metadata": {
        "id": "dJlSPurh45LB"
      },
      "execution_count": 13,
      "outputs": []
    },
    {
      "cell_type": "code",
      "source": [
        "A = {2, 3, 6}\n",
        "B = {1, 2, 3, 4}\n",
        "AB = set.intersection(A, B)\n",
        "samples = die_multi_toss(n=10000)\n",
        "p_A = die_probability(samples, A)\n",
        "p_B = die_probability(samples, B)\n",
        "p_AB = die_probability(samples, AB)\n",
        "\n",
        "print(f\"P(A) = {p_A}, P(B) = {p_B}, P(AB) = {p_AB}, P(A)*P(B) = {round(p_A * p_B, 3)}\")"
      ],
      "metadata": {
        "colab": {
          "base_uri": "https://localhost:8080/"
        },
        "id": "VGiWp1Y75YZT",
        "outputId": "7f3a6483-7455-4caf-ec86-109e88a21536"
      },
      "execution_count": 16,
      "outputs": [
        {
          "output_type": "stream",
          "name": "stdout",
          "text": [
            "P(A) = 0.502, P(B) = 0.657, P(AB) = 0.33, P(A)*P(B) = 0.33\n"
          ]
        }
      ]
    },
    {
      "cell_type": "code",
      "source": [
        "A = {1, 2, 3}\n",
        "B = {4, 5, 6}\n",
        "AB = set.intersection(A, B)\n",
        "samples = die_multi_toss(n=10000)\n",
        "p_A = die_probability(samples, A)\n",
        "p_B = die_probability(samples, B)\n",
        "p_AB = die_probability(samples, AB)\n",
        "\n",
        "print(f\"P(A) = {p_A}, P(B) = {p_B}, P(AB) = {p_AB}, P(A)*P(B) = {round(p_A * p_B, 3)}\")"
      ],
      "metadata": {
        "colab": {
          "base_uri": "https://localhost:8080/"
        },
        "id": "CsdCw0Rc39EO",
        "outputId": "0d82d8c2-7ad8-452a-c9d8-14232b823a60"
      },
      "execution_count": 17,
      "outputs": [
        {
          "output_type": "stream",
          "name": "stdout",
          "text": [
            "P(A) = 0.495, P(B) = 0.504, P(AB) = 0.0, P(A)*P(B) = 0.249\n"
          ]
        }
      ]
    },
    {
      "cell_type": "code",
      "source": [],
      "metadata": {
        "id": "tEVrY0KF8Z8i"
      },
      "execution_count": null,
      "outputs": []
    }
  ]
}