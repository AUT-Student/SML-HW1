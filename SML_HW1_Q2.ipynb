{
  "nbformat": 4,
  "nbformat_minor": 0,
  "metadata": {
    "colab": {
      "provenance": [],
      "authorship_tag": "ABX9TyO8pNVnDzOKB5iDtNlKbMwX",
      "include_colab_link": true
    },
    "kernelspec": {
      "name": "python3",
      "display_name": "Python 3"
    },
    "language_info": {
      "name": "python"
    }
  },
  "cells": [
    {
      "cell_type": "markdown",
      "metadata": {
        "id": "view-in-github",
        "colab_type": "text"
      },
      "source": [
        "<a href=\"https://colab.research.google.com/github/AUT-Student/SML-HW1/blob/main/SML_HW1_Q2.ipynb\" target=\"_parent\"><img src=\"https://colab.research.google.com/assets/colab-badge.svg\" alt=\"Open In Colab\"/></a>"
      ]
    },
    {
      "cell_type": "markdown",
      "source": [
        "<center><b>In the name of God</b></center>\n",
        "\n",
        "<b>Course</b>: Statistical Machine Learning\n",
        "<br>\n",
        "<b>Description:</b> HomeWork 1 | Question 2\n",
        "<br>\n",
        "<b>Developer</b>: Alireza Mazochi (400131075)"
      ],
      "metadata": {
        "id": "rGLR7GEa028n"
      }
    },
    {
      "cell_type": "code",
      "source": [
        "import random"
      ],
      "metadata": {
        "id": "K_p2kqj80188"
      },
      "execution_count": 1,
      "outputs": []
    },
    {
      "cell_type": "code",
      "source": [
        "def coin_toss(p):\n",
        "  return random.random() < p"
      ],
      "metadata": {
        "id": "Vvir44nU00gC"
      },
      "execution_count": 2,
      "outputs": []
    },
    {
      "cell_type": "code",
      "execution_count": 4,
      "metadata": {
        "id": "ZWs-mzHK0p77"
      },
      "outputs": [],
      "source": [
        "def coin_multi_toss(n, p):\n",
        "  number_heads = 0\n",
        "  for i in range(n):\n",
        "    if coin_toss(p):\n",
        "      number_heads+=1\n",
        "  return number_heads  "
      ]
    },
    {
      "cell_type": "code",
      "source": [
        "number_expriments = 1000\n",
        "n_list = [10, 100, 1000]\n",
        "p = 0.4\n",
        "\n",
        "for n in n_list:\n",
        "  print(f\"n = {n}\", end=\" \")\n",
        "  sum_X = 0\n",
        "  for _ in range(number_expriments):\n",
        "    X = coin_multi_toss(n=n, p=p)\n",
        "    sum_X += X\n",
        "  avg_X = sum_X / number_expriments\n",
        "  print(f\"Average X = {avg_X} np = {n*p}\")"
      ],
      "metadata": {
        "colab": {
          "base_uri": "https://localhost:8080/"
        },
        "id": "fQe1dDpH04yw",
        "outputId": "cc75c3e7-1cac-4953-b9a4-5e139895cb79"
      },
      "execution_count": 7,
      "outputs": [
        {
          "output_type": "stream",
          "name": "stdout",
          "text": [
            "n = 10 Average X = 3.959 np = 4.0\n",
            "n = 100 Average X = 40.19 np = 40.0\n",
            "n = 1000 Average X = 400.412 np = 400.0\n"
          ]
        }
      ]
    }
  ]
}